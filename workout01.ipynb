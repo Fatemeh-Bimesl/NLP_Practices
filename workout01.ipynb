{
  "nbformat": 4,
  "nbformat_minor": 0,
  "metadata": {
    "colab": {
      "provenance": [],
      "authorship_tag": "ABX9TyM/EE/qB8KcceWjtrO9/EUB",
      "include_colab_link": true
    },
    "kernelspec": {
      "name": "python3",
      "display_name": "Python 3"
    },
    "language_info": {
      "name": "python"
    }
  },
  "cells": [
    {
      "cell_type": "markdown",
      "metadata": {
        "id": "view-in-github",
        "colab_type": "text"
      },
      "source": [
        "<a href=\"https://colab.research.google.com/github/Fatemeh-Bimesl/NLP_exercises/blob/main/workout01.ipynb\" target=\"_parent\"><img src=\"https://colab.research.google.com/assets/colab-badge.svg\" alt=\"Open In Colab\"/></a>"
      ]
    },
    {
      "cell_type": "code",
      "source": [
        "import nltk\n",
        "from nltk.corpus import wordnet\n",
        "nltk.download('wordnet')\n",
        "\n",
        "synonyms = []\n",
        "antonyms = []\n",
        "\n",
        "for s in wordnet.synsets(\"courageous\"):\n",
        "  for l in s.lemmas():\n",
        "    synonyms.append(l.name())\n",
        "    if l.antonyms():\n",
        "      antonyms.append(l.antonyms()[0].name)\n",
        "\n",
        "print(\"Synonyms of 'courageous'= \" , set(synonyms))\n",
        "print(\"First antonym of 'courageous'= \", antonyms[0])\n",
        "print(\"First & second antonyms of 'courageous'= \" , antonyms[:2])"
      ],
      "metadata": {
        "colab": {
          "base_uri": "https://localhost:8080/"
        },
        "id": "K01PxXpouJn7",
        "outputId": "36f5b84e-c052-47a1-8d1b-53fc7bac9b57"
      },
      "execution_count": 85,
      "outputs": [
        {
          "output_type": "stream",
          "name": "stdout",
          "text": [
            "Synonyms of 'courageous'=  {'brave', 'courageous'}\n",
            "First antonym of 'courageous'=  <bound method Lemma.name of Lemma('cowardly.a.01.cowardly')>\n",
            "First & second antonyms of 'courageous'=  [<bound method Lemma.name of Lemma('cowardly.a.01.cowardly')>]\n"
          ]
        },
        {
          "output_type": "stream",
          "name": "stderr",
          "text": [
            "[nltk_data] Downloading package wordnet to /root/nltk_data...\n",
            "[nltk_data]   Package wordnet is already up-to-date!\n"
          ]
        }
      ]
    }
  ]
}